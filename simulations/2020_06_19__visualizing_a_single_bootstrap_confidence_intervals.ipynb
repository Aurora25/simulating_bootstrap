{
 "cells": [
  {
   "cell_type": "markdown",
   "metadata": {},
   "source": [
    "## Testing the bootstrap and plotting results"
   ]
  },
  {
   "cell_type": "markdown",
   "metadata": {},
   "source": [
    "### Use sample size of 1000"
   ]
  },
  {
   "cell_type": "code",
   "execution_count": 1,
   "metadata": {},
   "outputs": [],
   "source": [
    "import seaborn as sns\n",
    "import matplotlib.pylab as plt\n",
    "import pylab as p\n",
    "import numpy as np"
   ]
  },
  {
   "cell_type": "code",
   "execution_count": 2,
   "metadata": {},
   "outputs": [],
   "source": [
    "from src.population_distributions import get_population_gauss\n",
    "from src.simulation import get_population_and_metrics, get_sample\n",
    "from src.bootstrap import bootstrap\n",
    "from src.confidence_intervals import confidence_interval, analytic_confidence_interval"
   ]
  },
  {
   "cell_type": "code",
   "execution_count": 10,
   "metadata": {},
   "outputs": [
    {
     "name": "stdout",
     "output_type": "stream",
     "text": [
      "Shape of the sample:      (1, 1000)\n",
      "Mean value of the sample: 0.020003596960204695\n"
     ]
    }
   ],
   "source": [
    "normal_dist = get_population_gauss(mu=0, sigma=1)\n",
    "pop, avg_std = get_population_and_metrics(normal_dist, pop_size=100000, \n",
    "                                          metric_functions={\"mean\": np.mean, \"std\": np.std})\n",
    "sample = get_sample(pop, sample_size=1000)\n",
    "print(\"Shape of the sample:     \", sample.shape)\n",
    "sample_mean = np.mean(sample)\n",
    "print(\"Mean value of the sample:\", sample_mean)"
   ]
  },
  {
   "cell_type": "code",
   "execution_count": 4,
   "metadata": {},
   "outputs": [],
   "source": [
    "res = bootstrap(sample, num_iter=1000, resample_size=1000, metrics={\"mean\": np.mean, \"std\": np.std})\n",
    "res_mean = [single_res['mean'] for single_res in res]\n",
    "res_std = [single_res['std'] for single_res in res]\n",
    "\n",
    "conf_mean = confidence_interval(res_mean, 0.9)\n",
    "conf_std = confidence_interval(res_std, 0.9)\n",
    "\n",
    "conf_mean_ana = analytic_confidence_interval(sample.shape[1], sample_mean, crtc_val=1.645)"
   ]
  },
  {
   "cell_type": "code",
   "execution_count": 5,
   "metadata": {
    "scrolled": true
   },
   "outputs": [
    {
     "data": {
      "image/png": "[encoded data removed]",
      "text/plain": [
       "<Figure size 432x288 with 1 Axes>"
      ]
     },
     "metadata": {},
     "output_type": "display_data"
    }
   ],
   "source": [
    "\n",
    "sns.set(style=\"whitegrid\")\n",
    "\n",
    "ax = sns.boxplot(y=res_mean, showfliers = False)\n",
    "ax = sns.swarmplot(y=[avg_std['mean']], size=10, color=\"magenta\")\n",
    "ax = sns.swarmplot(y=[conf_mean.lower_bound, conf_mean.upper_bound], size=10, color=\"blue\")\n",
    "ax = sns.swarmplot(y=[conf_mean_ana.lower_bound, conf_mean_ana.upper_bound], size=10, color=\"0.7\")\n"
   ]
  },
  {
   "cell_type": "code",
   "execution_count": 6,
   "metadata": {
    "scrolled": true
   },
   "outputs": [
    {
     "data": {
      "image/png": "[encoded data removed]",
      "text/plain": [
       "<Figure size 432x288 with 1 Axes>"
      ]
     },
     "metadata": {},
     "output_type": "display_data"
    }
   ],
   "source": [
    "sns.set(style=\"whitegrid\")\n",
    "\n",
    "conf_int = confidence_interval(res_std)\n",
    "\n",
    "ax = sns.boxplot(y=res_std, showfliers = False)\n",
    "ax = sns.swarmplot(y=[avg_std['std']], size=10, color=\"magenta\")\n",
    "ax = sns.swarmplot(y=[conf_std.lower_bound, conf_std.upper_bound], size=10, color=\"0.5\")"
   ]
  },
  {
   "cell_type": "markdown",
   "metadata": {},
   "source": [
    "### Visualizing a single sample bootstrap and comparing confidence intervals"
   ]
  },
  {
   "cell_type": "code",
   "execution_count": 7,
   "metadata": {},
   "outputs": [
    {
     "name": "stdout",
     "output_type": "stream",
     "text": [
      "Sample Mean: -0.03831341160457056\n",
      "\n",
      "\n",
      "Percentile Confidence Interval:\n",
      "   ConfidenceInterval(lower_bound=-0.09064678699761518, upper_bound=0.014018629799676455)\n",
      "Analytical Confidence Interval:\n",
      "   ConfidenceInterval(lower_bound=-0.0903328791143404, upper_bound=0.013706055905199285)\n",
      "\n",
      "\n",
      "Sample mean in analytical confidence interval:\n",
      "    True\n",
      "sample mean in percentile confidence interval:\n",
      "    True\n"
     ]
    }
   ],
   "source": [
    "res = bootstrap(sample, num_iter=1000, resample_size=1000, metrics={\"mean\": np.mean, \"std\": np.std})\n",
    "res_mean = [single_res['mean'] for single_res in res]\n",
    "\n",
    "sample_mean = np.mean(sample)\n",
    "\n",
    "conf = confidence_interval(res_mean, 0.9)\n",
    "conf_ana = analytic_confidence_interval(sample.shape[1], sample_mean, crtc_val=1.645)\n",
    "\n",
    "print(\"Sample Mean:\", sample_mean)\n",
    "print(\"\\n\")\n",
    "print(\"Percentile Confidence Interval:\\n  \", conf)\n",
    "print(\"Analytical Confidence Interval:\\n  \", conf_ana)\n",
    "print(\"\\n\")\n",
    "print(\"Sample mean in analytical confidence interval:\")\n",
    "print(\"   \", True if conf_ana.lower_bound <= sample_mean <= conf_ana.upper_bound else False)\n",
    "print(\"sample mean in percentile confidence interval:\")\n",
    "print(\"   \", True if conf.lower_bound <= sample_mean <= conf.upper_bound else False)"
   ]
  },
  {
   "cell_type": "code",
   "execution_count": 8,
   "metadata": {
    "scrolled": false
   },
   "outputs": [
    {
     "data": {
      "text/plain": [
       "<matplotlib.legend.Legend at 0x1a1e7dc8d0>"
      ]
     },
     "execution_count": 8,
     "metadata": {},
     "output_type": "execute_result"
    },
    {
     "data": {
      "image/png": "[encoded data removed]",
      "text/plain": [
       "<Figure size 432x288 with 1 Axes>"
      ]
     },
     "metadata": {},
     "output_type": "display_data"
    }
   ],
   "source": [
    "plt.hist(res_mean, bins=10)\n",
    "plt.vlines([conf.lower_bound, conf.upper_bound], 0, 250, colors=['r', 'r'], label='conf')\n",
    "plt.vlines([conf_ana.lower_bound, conf_ana.upper_bound], 0, 250, colors=['g', 'g'], label='conf_ana')\n",
    "plt.legend()"
   ]
  },
  {
   "cell_type": "code",
   "execution_count": null,
   "metadata": {},
   "outputs": [],
   "source": []
  }
 ],
 "metadata": {
  "kernelspec": {
   "display_name": "Python 3.7",
   "language": "python",
   "name": "py37"
  },
  "language_info": {
   "codemirror_mode": {
    "name": "ipython",
    "version": 3
   },
   "file_extension": ".py",
   "mimetype": "text/x-python",
   "name": "python",
   "nbconvert_exporter": "python",
   "pygments_lexer": "ipython3",
   "version": "3.7.5"
  }
 },
 "nbformat": 4,
 "nbformat_minor": 2
}
